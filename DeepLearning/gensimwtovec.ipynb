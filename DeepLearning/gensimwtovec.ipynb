{
 "cells": [
  {
   "cell_type": "code",
   "execution_count": 1,
   "metadata": {},
   "outputs": [
    {
     "name": "stderr",
     "output_type": "stream",
     "text": [
      "c:\\python\\python35\\lib\\site-packages\\gensim\\utils.py:860: UserWarning: detected Windows; aliasing chunkize to chunkize_serial\n",
      "  warnings.warn(\"detected Windows; aliasing chunkize to chunkize_serial\")\n"
     ]
    },
    {
     "name": "stdout",
     "output_type": "stream",
     "text": [
      "Word2Vec(vocab=14, size=100, alpha=0.025)\n",
      "['yet', 'and', 'this', 'sentence', 'is', 'word2vec', 'one', 'first', 'second', 'another', 'the', 'for', 'more', 'final']\n",
      "[ -2.50403536e-03   2.52033584e-03   2.29293900e-03   5.32550388e-04\n",
      "  -2.18292163e-03   7.56682188e-04   2.66690785e-03  -4.89700120e-04\n",
      "   4.29872947e-04  -3.13808676e-03  -4.58047213e-03  -4.29767213e-04\n",
      "  -3.41724465e-03  -2.42848368e-03  -2.98643834e-03  -4.79878811e-03\n",
      "  -4.00319323e-03   3.83614236e-03  -4.27501230e-03  -4.16864362e-03\n",
      "   2.55447975e-03   3.58116045e-03   4.50229691e-03   4.05640947e-03\n",
      "  -2.18387437e-03  -2.35807686e-03  -4.38817451e-03   2.18001613e-03\n",
      "  -4.71182307e-03   7.61677104e-04   4.41854168e-03   2.85782292e-03\n",
      "   3.15858773e-03   4.06280207e-03  -1.73330773e-03   3.91737185e-03\n",
      "  -5.20645932e-04  -3.37739754e-03  -3.78714432e-03  -1.39122619e-03\n",
      "   2.85896589e-04  -8.42773807e-05  -1.62677735e-03  -1.11111207e-03\n",
      "  -4.20235470e-03   3.04120756e-03   2.68976996e-03  -2.14528455e-03\n",
      "  -3.60925240e-03  -4.62621101e-04   3.29824933e-03   1.46023312e-03\n",
      "   2.36039935e-03  -3.90969077e-03   2.64906813e-03  -1.94499525e-03\n",
      "   1.99643197e-03   1.70247303e-03  -7.03777419e-04  -4.83094575e-03\n",
      "  -4.51075938e-03  -1.07322051e-03  -9.71769798e-04   7.83534488e-04\n",
      "   2.57135020e-03  -4.27053915e-03   4.13303380e-04   3.40720010e-03\n",
      "   4.95205028e-03   8.78698542e-04  -9.12333373e-04   3.90908419e-04\n",
      "  -1.27970974e-03   3.14913713e-03   3.90631892e-03   2.74779531e-03\n",
      "   2.26569828e-03   9.12237665e-05  -1.53401855e-03   9.34077951e-04\n",
      "  -4.74450737e-03  -1.56077172e-03  -3.50673706e-03  -1.72075618e-03\n",
      "   2.81327195e-03   8.78303777e-04   4.06010728e-03   4.84250532e-03\n",
      "   9.45555628e-04   5.36522653e-04  -6.84855971e-04   1.36372721e-04\n",
      "  -4.04929509e-03   2.75710830e-03  -4.59945621e-03   2.93052220e-03\n",
      "   3.09803966e-03   5.79603424e-04  -3.09044938e-03   2.13642977e-03]\n",
      "Word2Vec(vocab=14, size=100, alpha=0.025)\n"
     ]
    }
   ],
   "source": [
    "from gensim.models import Word2Vec\n",
    "# define training data\n",
    "sentences = [['this', 'is', 'the', 'first', 'sentence', 'for', 'word2vec'],\n",
    "['this', 'is', 'the', 'second', 'sentence'],\n",
    "['yet', 'another', 'sentence'],\n",
    "['one', 'more', 'sentence'],\n",
    "['and', 'the', 'final', 'sentence']]\n",
    "# train model\n",
    "model = Word2Vec(sentences, min_count=1)\n",
    "# summarize the loaded model\n",
    "print(model)\n",
    "# summarize vocabulary\n",
    "words = list(model.wv.vocab)\n",
    "print(words)\n",
    "# access vector for one word\n",
    "print(model['sentence'])\n",
    "# save model\n",
    "model.save('model.bin')\n",
    "# load model\n",
    "new_model = Word2Vec.load('model.bin')\n",
    "print(new_model)"
   ]
  },
  {
   "cell_type": "code",
   "execution_count": 2,
   "metadata": {},
   "outputs": [
    {
     "data": {
      "image/png": "[encoded data removed]",
      "text/plain": [
       "<matplotlib.figure.Figure at 0xe503036da0>"
      ]
     },
     "metadata": {},
     "output_type": "display_data"
    }
   ],
   "source": [
    "from sklearn.decomposition import PCA\n",
    "from matplotlib import pyplot\n",
    "\n",
    "# define training data\n",
    "sentences = [['this', 'is', 'the', 'first', 'sentence', 'for'],\n",
    "             ['this', 'is', 'the', 'second', 'sentence'],\n",
    "             ['yet', 'another', 'sentence'],\n",
    "             ['one''more', 'sentence'],\n",
    "             ['and', 'the', 'final', 'sentence']]\n",
    "# train model\n",
    "model = Word2Vec(sentences, min_count=1)\n",
    "# fit a 2d PCA model to the vectors\n",
    "X = model[model.wv.vocab]\n",
    "pca = PCA(n_components=2)\n",
    "result = pca.fit_transform(X)\n",
    "# create a scatter plot of the projection\n",
    "pyplot.scatter(result[:, 0], result[:, 1])\n",
    "words = list(model.wv.vocab)\n",
    "for i, word in enumerate(words):\n",
    "    pyplot.annotate(word, xy=(result[i, 0], result[i, 1]))\n",
    "pyplot.show()"
   ]
  },
  {
   "cell_type": "code",
   "execution_count": 1,
   "metadata": {},
   "outputs": [
    {
     "name": "stderr",
     "output_type": "stream",
     "text": [
      "c:\\python\\python35\\lib\\site-packages\\gensim\\utils.py:860: UserWarning: detected Windows; aliasing chunkize to chunkize_serial\n",
      "  warnings.warn(\"detected Windows; aliasing chunkize to chunkize_serial\")\n"
     ]
    },
    {
     "name": "stdout",
     "output_type": "stream",
     "text": [
      "[('queen', 0.7118192315101624)]\n",
      "118.49882864952087 seconds\n"
     ]
    }
   ],
   "source": [
    "from gensim.models import KeyedVectors\n",
    "import time\n",
    "\n",
    "# load the google word2vec model\n",
    "filename = 'GoogleNews-vectors-negative300.bin'\n",
    "start = time.time()\n",
    "model = KeyedVectors.load_word2vec_format(filename, binary=True)\n",
    "# calculate: (king - man) + woman = ?\n",
    "result = model.most_similar(positive=['woman', 'king'], negative=['man'], topn=1)\n",
    "end = time.time()\n",
    "print(result)\n",
    "print(str(end - start) + \" seconds\")"
   ]
  },
  {
   "cell_type": "code",
   "execution_count": null,
   "metadata": {
    "collapsed": true
   },
   "outputs": [],
   "source": []
  }
 ],
 "metadata": {
  "kernelspec": {
   "display_name": "Python 3",
   "language": "python",
   "name": "python3"
  },
  "language_info": {
   "codemirror_mode": {
    "name": "ipython",
    "version": 3
   },
   "file_extension": ".py",
   "mimetype": "text/x-python",
   "name": "python",
   "nbconvert_exporter": "python",
   "pygments_lexer": "ipython3",
   "version": "3.5.2"
  }
 },
 "nbformat": 4,
 "nbformat_minor": 2
}
